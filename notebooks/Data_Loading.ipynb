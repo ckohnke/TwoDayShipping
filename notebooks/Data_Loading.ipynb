{
 "cells": [
  {
   "cell_type": "code",
   "execution_count": 49,
   "metadata": {},
   "outputs": [],
   "source": [
    "from PIL import Image\n",
    "import numpy as np\n",
    "import matplotlib.pyplot as plt\n",
    "import os\n",
    "from skimage.transform import resize\n",
    "from tqdm import tqdm"
   ]
  },
  {
   "cell_type": "code",
   "execution_count": 44,
   "metadata": {},
   "outputs": [],
   "source": [
    "directory = '../data/fusions'\n",
    "k = 0\n",
    "for file in os.listdir(directory):\n",
    "    filename = os.fsdecode(file)\n",
    "    if filename.endswith(\".png\"): \n",
    "        im = Image.open(directory+\"/\"+filename)\n",
    "        for i in range(0,1500,150):\n",
    "            for j in range(0,2400,150):\n",
    "                np_im = np.array(im)\n",
    "                new = np_im[j:j+150,i:i+150,:]\n",
    "                new = Image.fromarray(resize(new, (120,120,4),preserve_range=True).astype('uint8'))\n",
    "                new.save(\"../data/fusions_cropped/{}_{}_{}.png\".format(k,i,j))\n",
    "    k+=1"
   ]
  },
  {
   "cell_type": "code",
   "execution_count": 50,
   "metadata": {},
   "outputs": [
    {
     "name": "stderr",
     "output_type": "stream",
     "text": [
      "100%|██████████| 22349/22349 [01:11<00:00, 311.43it/s]\n"
     ]
    }
   ],
   "source": [
    "dataset = np.empty((22349,120,120,3))\n",
    "directory = '../data/fusions_cropped'\n",
    "with tqdm(total=22349) as pbar:\n",
    "    for i, file in enumerate(os.listdir(directory)):\n",
    "        pbar.update(1)\n",
    "        filename = os.fsdecode(file)\n",
    "        if filename.endswith(\".png\"): \n",
    "            dataset[i,:,:,:] = np.array(Image.open(directory+'/'+filename))[:,:,:-1]/255"
   ]
  },
  {
   "cell_type": "code",
   "execution_count": 51,
   "metadata": {},
   "outputs": [],
   "source": [
    "np.save('../data/fusions.npy',dataset)"
   ]
  },
  {
   "cell_type": "code",
   "execution_count": 89,
   "metadata": {},
   "outputs": [
    {
     "name": "stderr",
     "output_type": "stream",
     "text": [
      "100%|█████████▉| 809/810 [00:00<00:00, 1092.99it/s]\n"
     ]
    }
   ],
   "source": [
    "dataset = np.empty((810,120,120,3))\n",
    "directory = '../data/pokemon/images'\n",
    "with tqdm(total=810) as pbar:\n",
    "    for i, file in enumerate(os.listdir(directory)):\n",
    "        pbar.update(1)\n",
    "        filename = os.fsdecode(file)\n",
    "        if filename.endswith(\".png\"): \n",
    "            try:\n",
    "                im = np.array(Image.open(directory+'/'+filename).convert(\"RGBA\"))\n",
    "                for i in range(3):\n",
    "                    im[:,:,i] += 255-im[:,:,3]\n",
    "                dataset[i,:,:,:] = im[:,:,:-1]/255\n",
    "            except IndexError:\n",
    "                print(\"couldn't load: \", filename)\n",
    "        if filename.endswith(\".jpg\"):\n",
    "            dataset[i,:,:,:] = np.array(Image.open(directory+'/'+filename))/255"
   ]
  },
  {
   "cell_type": "code",
   "execution_count": 90,
   "metadata": {},
   "outputs": [],
   "source": [
    "np.save('../data/pokemon.npy',dataset)"
   ]
  }
 ],
 "metadata": {
  "@webio": {
   "lastCommId": null,
   "lastKernelId": null
  },
  "kernelspec": {
   "display_name": "Python [conda env:tensorflow]",
   "language": "python",
   "name": "conda-env-tensorflow-py"
  },
  "language_info": {
   "codemirror_mode": {
    "name": "ipython",
    "version": 3
   },
   "file_extension": ".py",
   "mimetype": "text/x-python",
   "name": "python",
   "nbconvert_exporter": "python",
   "pygments_lexer": "ipython3",
   "version": "3.6.5"
  }
 },
 "nbformat": 4,
 "nbformat_minor": 2
}
